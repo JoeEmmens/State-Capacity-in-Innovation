{
 "cells": [
  {
   "cell_type": "code",
   "execution_count": 1,
   "metadata": {
    "collapsed": true
   },
   "outputs": [
    {
     "data": {
      "text/plain": "'\\nCounty level analysis on state connection to innovation\\n'"
     },
     "execution_count": 1,
     "metadata": {},
     "output_type": "execute_result"
    }
   ],
   "source": [
    "\"\"\"\n",
    "County level analysis on state connection to innovation\n",
    "\"\"\""
   ]
  },
  {
   "cell_type": "code",
   "execution_count": 9,
   "outputs": [],
   "source": [
    "import pandas as pd\n",
    "import os\n",
    "import numpy as np\n",
    "from fuzzywuzzy import fuzz\n",
    "import numpy as np\n",
    "import itertools\n",
    "import networkx as nx\n",
    "os.chdir(\"C:/Users/Joe's PC/Documents/IDEA Masters/Second Year/First Semester/Applied Public Economics/Term Paper/Patent Data/County/No Citations/New York\")"
   ],
   "metadata": {
    "collapsed": false,
    "pycharm": {
     "name": "#%%\n"
    }
   }
  },
  {
   "cell_type": "code",
   "execution_count": 3,
   "outputs": [
    {
     "data": {
      "text/plain": "'\\nassignee = pd.read_csv(\"assignee.csv\")\\n\\n#Takes a long time!\\n\\nassignee_dict = {}\\nfor idx in assignee.index:\\n    key = assignee.iloc[idx][0]\\n    value = assignee.iloc[idx][4]\\n    assignee_dict.update({key : value})\\n\\nnp.save(\\'assignee_dict.npy\\', assignee_dict)\\n'"
     },
     "execution_count": 3,
     "metadata": {},
     "output_type": "execute_result"
    }
   ],
   "source": [
    "\"\"\"\n",
    "assignee = pd.read_csv(\"assignee.csv\")\n",
    "\n",
    "#Takes a long time!\n",
    "\n",
    "assignee_dict = {}\n",
    "for idx in assignee.index:\n",
    "    key = assignee.iloc[idx][0]\n",
    "    value = assignee.iloc[idx][4]\n",
    "    assignee_dict.update({key : value})\n",
    "\n",
    "np.save('assignee_dict.npy', assignee_dict)\n",
    "\"\"\""
   ],
   "metadata": {
    "collapsed": false,
    "pycharm": {
     "name": "#%%\n"
    }
   }
  },
  {
   "cell_type": "code",
   "execution_count": 4,
   "outputs": [],
   "source": [
    "assignee_dict = np.load('assignee_dict.npy',allow_pickle='TRUE').item()"
   ],
   "metadata": {
    "collapsed": false,
    "pycharm": {
     "name": "#%%\n"
    }
   }
  },
  {
   "cell_type": "code",
   "execution_count": 4,
   "outputs": [],
   "source": [],
   "metadata": {
    "collapsed": false,
    "pycharm": {
     "name": "#%%\n"
    }
   }
  },
  {
   "cell_type": "code",
   "execution_count": 5,
   "outputs": [],
   "source": [
    "def CleanStateData(data, file_name=\"\"):\n",
    "\n",
    "    data[\"assignee_id\"] = data[\"assignee_id\"].map(assignee_dict)\n",
    "    data = data.dropna()\n",
    "\n",
    "\n",
    "    for ass in data[\"assignee_id\"].unique():\n",
    "        str1 = ass\n",
    "        for ass2 in data[\"assignee_id\"].unique():\n",
    "            str2 = ass2\n",
    "\n",
    "            ratio = fuzz.ratio(str1.lower(), str2.lower())\n",
    "            if 90 < ratio < 100:\n",
    "                data[\"assignee_id\"] = data[\"assignee_id\"].replace(str2, str1, regex=True)\n",
    "\n",
    "\n",
    "    data = data.sort_values(\"assignee_id\")\n",
    "\n",
    "    GovtInterest = data[data[\"govint_org_id\"] != \"None\"]\n",
    "\n",
    "    data.to_csv(f\"{file_name}(Clean).csv\")\n",
    "\n",
    "    return data\n"
   ],
   "metadata": {
    "collapsed": false,
    "pycharm": {
     "name": "#%%\n"
    }
   }
  },
  {
   "cell_type": "code",
   "execution_count": 5,
   "outputs": [],
   "source": [
    "\n"
   ],
   "metadata": {
    "collapsed": false,
    "pycharm": {
     "name": "#%%\n"
    }
   }
  },
  {
   "cell_type": "code",
   "execution_count": 6,
   "outputs": [],
   "source": [
    "def CreateGraph(data, file_name=\"\"):\n",
    "\n",
    "    G = data[\"govint_org_id\"].unique()\n",
    "    G = G[1:]\n",
    "\n",
    "\n",
    "    govt = {\"None\" : 0}\n",
    "\n",
    "    govt.update(dict.fromkeys(G, 1))\n",
    "\n",
    "    print(govt)\n",
    "\n",
    "\n",
    "    data[\"Govt Support\"] = data[\"govint_org_id\"].map(govt)\n",
    "\n",
    "    print(data[\"Govt Support\"].value_counts(normalize=True))\n",
    "\n",
    "\n",
    "    data = data.sort_values(\"inventor_id\")\n",
    "\n",
    "    ### Create the graph ###\n",
    "    state_edges = []\n",
    "\n",
    "    for assignee in data[\"assignee_id\"].unique():\n",
    "        A = data[data[\"assignee_id\"] == assignee]\n",
    "\n",
    "        if 1 in A[\"Govt Support\"].values:\n",
    "            state_edges.append((\"state\", assignee))\n",
    "\n",
    "\n",
    "    ### Add the edges ###\n",
    "    edges = []\n",
    "\n",
    "    for inventor in data[\"inventor_id\"].unique():\n",
    "\n",
    "        group = data[data[\"inventor_id\"] == inventor]\n",
    "\n",
    "        assignees = group[\"assignee_id\"].unique()\n",
    "        combinations = list(itertools.combinations(assignees, 2))\n",
    "\n",
    "        for edge in combinations:\n",
    "\n",
    "            edges.append(edge)\n",
    "\n",
    "    nodes = data[\"assignee_id\"].unique()\n",
    "    nodes = np.insert(nodes, 0, \"state\")\n",
    "\n",
    "    Graph = nx.Graph()\n",
    "\n",
    "    Graph.add_nodes_from(nodes)\n",
    "    Graph.add_edges_from(state_edges)\n",
    "    Graph.add_edges_from(edges)\n",
    "\n",
    "    nx.write_graphml(Graph, f\"{file_name}.graphml\")\n",
    "\n",
    "    return print(nx.info(Graph))\n",
    "\n"
   ],
   "metadata": {
    "collapsed": false,
    "pycharm": {
     "name": "#%%\n"
    }
   }
  },
  {
   "cell_type": "code",
   "execution_count": 20,
   "outputs": [],
   "source": [
    "file = \"New York 2012\""
   ],
   "metadata": {
    "collapsed": false,
    "pycharm": {
     "name": "#%%\n"
    }
   }
  },
  {
   "cell_type": "code",
   "execution_count": 21,
   "outputs": [
    {
     "name": "stderr",
     "output_type": "stream",
     "text": [
      "<ipython-input-5-d7c5ead35c12>:14: SettingWithCopyWarning: \n",
      "A value is trying to be set on a copy of a slice from a DataFrame.\n",
      "Try using .loc[row_indexer,col_indexer] = value instead\n",
      "\n",
      "See the caveats in the documentation: https://pandas.pydata.org/pandas-docs/stable/user_guide/indexing.html#returning-a-view-versus-a-copy\n",
      "  data[\"assignee_id\"] = data[\"assignee_id\"].replace(str2, str1, regex=True)\n"
     ]
    },
    {
     "name": "stdout",
     "output_type": "stream",
     "text": [
      "{'None': 0, '95': 1, '10': 1, '127': 1, '64': 1, '55': 1, '51': 1, '18': 1, '5': 1, '126': 1, '31': 1, '133': 1, '125': 1, '19': 1, '54': 1, '53': 1, '119': 1, '113': 1, '128': 1, '131': 1, '123': 1, '135': 1, '120': 1, '116': 1, '179': 1}\n",
      "0    0.920936\n",
      "1    0.079064\n",
      "Name: Govt Support, dtype: float64\n",
      "Name: \n",
      "Type: Graph\n",
      "Number of nodes: 466\n",
      "Number of edges: 87\n",
      "Average degree:   0.3734\n"
     ]
    }
   ],
   "source": [
    "data = pd.read_csv(f\"{file}.csv\")\n",
    "clean_data = CleanStateData(data=data, file_name=f\"{file}\")\n",
    "Graph = CreateGraph(clean_data, file_name=f\"{file}\")"
   ],
   "metadata": {
    "collapsed": false,
    "pycharm": {
     "name": "#%%\n"
    }
   }
  },
  {
   "cell_type": "code",
   "execution_count": null,
   "outputs": [],
   "source": [],
   "metadata": {
    "collapsed": false,
    "pycharm": {
     "name": "#%%\n"
    }
   }
  }
 ],
 "metadata": {
  "kernelspec": {
   "display_name": "Python 3",
   "language": "python",
   "name": "python3"
  },
  "language_info": {
   "codemirror_mode": {
    "name": "ipython",
    "version": 2
   },
   "file_extension": ".py",
   "mimetype": "text/x-python",
   "name": "python",
   "nbconvert_exporter": "python",
   "pygments_lexer": "ipython2",
   "version": "2.7.6"
  }
 },
 "nbformat": 4,
 "nbformat_minor": 0
}